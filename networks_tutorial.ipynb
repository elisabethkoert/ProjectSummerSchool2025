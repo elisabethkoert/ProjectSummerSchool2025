{
 "cells": [
  {
   "cell_type": "markdown",
   "id": "tutorial-title",
   "metadata": {},
   "source": [
    "# NetworkX Tutorial: Creating and Drawing Graphs from Matrices\n",
    "\n",
    "NetworkX is a powerful Python library for creating, manipulating, and studying complex networks. This tutorial covers the basics of creating and visualizing graphs from adjacency matrices."
   ]
  },
  {
   "cell_type": "markdown",
   "id": "installation",
   "metadata": {},
   "source": [
    "## Installation\n",
    "\n",
    "If you haven't installed the required packages, run the following command:\n",
    "\n",
    "```bash\n",
    "pip install networkx matplotlib numpy scipy\n",
    "```"
   ]
  },
  {
   "cell_type": "code",
   "execution_count": null,
   "id": "imports",
   "metadata": {},
   "outputs": [],
   "source": [
    "# Basic imports\n",
    "import networkx as nx\n",
    "import matplotlib.pyplot as plt\n",
    "import numpy as np\n",
    "from scipy.sparse import csr_matrix\n",
    "\n",
    "# Set up matplotlib for inline display\n",
    "%matplotlib inline\n",
    "plt.rcParams['figure.figsize'] = (8, 6)"
   ]
  },
  {
   "cell_type": "markdown",
   "id": "unweighted-undirected-title",
   "metadata": {},
   "source": [
    "## 1. Unweighted Undirected Graph\n",
    "\n",
    "An unweighted undirected graph uses binary values (0 or 1) in the adjacency matrix, where the matrix is symmetric."
   ]
  },
  {
   "cell_type": "code",
   "execution_count": null,
   "id": "unweighted-undirected",
   "metadata": {},
   "outputs": [],
   "source": [
    "# Create adjacency matrix for unweighted undirected graph\n",
    "adj_matrix_unweighted_undirected = np.array([\n",
    "    [0, 1, 1, 0],\n",
    "    [1, 0, 1, 1],\n",
    "    [1, 1, 0, 1],\n",
    "    [0, 1, 1, 0]\n",
    "])\n",
    "\n",
    "print(\"Adjacency Matrix:\")\n",
    "print(adj_matrix_unweighted_undirected)\n",
    "\n",
    "# Create graph from adjacency matrix\n",
    "G_unweighted_undirected = nx.from_numpy_array(adj_matrix_unweighted_undirected)\n",
    "\n",
    "# Draw the graph\n",
    "plt.figure(figsize=(8, 6))\n",
    "pos = nx.spring_layout(G_unweighted_undirected, seed=42)\n",
    "nx.draw(G_unweighted_undirected, pos, with_labels=True, node_color='lightblue', \n",
    "        node_size=500, font_size=16, font_weight='bold')\n",
    "plt.title(\"Unweighted Undirected Graph\")\n",
    "plt.show()\n",
    "\n",
    "print(\"\\nEdges in unweighted undirected graph:\")\n",
    "print(list(G_unweighted_undirected.edges()))"
   ]
  },
  {
   "cell_type": "markdown",
   "id": "weighted-undirected-title",
   "metadata": {},
   "source": [
    "## 2. Weighted Undirected Graph\n",
    "\n",
    "A weighted undirected graph uses numeric values to represent edge weights, with a symmetric matrix."
   ]
  },
  {
   "cell_type": "code",
   "execution_count": null,
   "id": "weighted-undirected",
   "metadata": {},
   "outputs": [],
   "source": [
    "# Create adjacency matrix for weighted undirected graph\n",
    "adj_matrix_weighted_undirected = np.array([\n",
    "    [0, 2.5, 1.2, 0],\n",
    "    [2.5, 0, 3.1, 4.0],\n",
    "    [1.2, 3.1, 0, 2.8],\n",
    "    [0, 4.0, 2.8, 0]\n",
    "])\n",
    "\n",
    "print(\"Adjacency Matrix:\")\n",
    "print(adj_matrix_weighted_undirected)\n",
    "\n",
    "# Create graph from adjacency matrix\n",
    "G_weighted_undirected = nx.from_numpy_array(adj_matrix_weighted_undirected)\n",
    "\n",
    "# Draw the graph with edge labels showing weights\n",
    "plt.figure(figsize=(10, 8))\n",
    "pos = nx.spring_layout(G_weighted_undirected, seed=42)\n",
    "nx.draw(G_weighted_undirected, pos, with_labels=True, node_color='lightgreen', \n",
    "        node_size=500, font_size=16, font_weight='bold')\n",
    "\n",
    "# Add edge labels with weights\n",
    "edge_labels = nx.get_edge_attributes(G_weighted_undirected, 'weight')\n",
    "edge_labels = {k: f'{v:.1f}' for k, v in edge_labels.items()}  # Format to 1 decimal\n",
    "nx.draw_networkx_edge_labels(G_weighted_undirected, pos, edge_labels)\n",
    "plt.title(\"Weighted Undirected Graph\")\n",
    "plt.show()\n",
    "\n",
    "print(\"\\nEdges with weights in weighted undirected graph:\")\n",
    "for edge in G_weighted_undirected.edges(data=True):\n",
    "    print(f\"{edge[0]} -- {edge[1]}: weight = {edge[2]['weight']:.1f}\")"
   ]
  },
  {
   "cell_type": "markdown",
   "id": "unweighted-directed-title",
   "metadata": {},
   "source": [
    "## 3. Unweighted Directed Graph\n",
    "\n",
    "An unweighted directed graph uses binary values, but the matrix doesn't need to be symmetric."
   ]
  },
  {
   "cell_type": "code",
   "execution_count": null,
   "id": "unweighted-directed",
   "metadata": {},
   "outputs": [],
   "source": [
    "# Create adjacency matrix for unweighted directed graph\n",
    "adj_matrix_unweighted_directed = np.array([\n",
    "    [0, 1, 1, 0],\n",
    "    [0, 0, 1, 1],\n",
    "    [1, 0, 0, 1],\n",
    "    [1, 1, 0, 0]\n",
    "])\n",
    "\n",
    "print(\"Adjacency Matrix:\")\n",
    "print(adj_matrix_unweighted_directed)\n",
    "\n",
    "# Create directed graph from adjacency matrix\n",
    "G_unweighted_directed = nx.from_numpy_array(adj_matrix_unweighted_directed, \n",
    "                                          create_using=nx.DiGraph())\n",
    "\n",
    "# Draw the graph\n",
    "plt.figure(figsize=(8, 6))\n",
    "pos = nx.spring_layout(G_unweighted_directed, seed=42)\n",
    "nx.draw(G_unweighted_directed, pos, with_labels=True, node_color='lightcoral', \n",
    "        node_size=500, font_size=16, font_weight='bold', arrows=True, \n",
    "        arrowsize=20, arrowstyle='->')\n",
    "plt.title(\"Unweighted Directed Graph\")\n",
    "plt.show()\n",
    "\n",
    "print(\"\\nEdges in unweighted directed graph:\")\n",
    "print(list(G_unweighted_directed.edges()))"
   ]
  },
  {
   "cell_type": "markdown",
   "id": "weighted-directed-title",
   "metadata": {},
   "source": [
    "## 4. Weighted Directed Graph\n",
    "\n",
    "A weighted directed graph uses numeric values for edge weights and can have asymmetric relationships."
   ]
  },
  {
   "cell_type": "code",
   "execution_count": null,
   "id": "weighted-directed",
   "metadata": {},
   "outputs": [],
   "source": [
    "# Create adjacency matrix for weighted directed graph\n",
    "adj_matrix_weighted_directed = np.array([\n",
    "    [0, 2.5, 1.2, 0],\n",
    "    [0, 0, 3.1, 4.0],\n",
    "    [5.5, 0, 0, 2.8],\n",
    "    [1.8, 3.2, 0, 0]\n",
    "])\n",
    "\n",
    "print(\"Adjacency Matrix:\")\n",
    "print(adj_matrix_weighted_directed)\n",
    "\n",
    "# Create directed graph from adjacency matrix\n",
    "G_weighted_directed = nx.from_numpy_array(adj_matrix_weighted_directed, \n",
    "                                        create_using=nx.DiGraph())\n",
    "\n",
    "# Draw the graph with edge labels showing weights\n",
    "plt.figure(figsize=(10, 8))\n",
    "pos = nx.spring_layout(G_weighted_directed, seed=42)\n",
    "nx.draw(G_weighted_directed, pos, with_labels=True, node_color='lightyellow', \n",
    "        node_size=500, font_size=16, font_weight='bold', arrows=True, \n",
    "        arrowsize=20, arrowstyle='->')\n",
    "\n",
    "# Add edge labels with weights\n",
    "edge_labels = nx.get_edge_attributes(G_weighted_directed, 'weight')\n",
    "edge_labels = {k: f'{v:.1f}' for k, v in edge_labels.items()}  # Format to 1 decimal\n",
    "nx.draw_networkx_edge_labels(G_weighted_directed, pos, edge_labels)\n",
    "plt.title(\"Weighted Directed Graph\")\n",
    "plt.show()\n",
    "\n",
    "print(\"\\nEdges with weights in weighted directed graph:\")\n",
    "for edge in G_weighted_directed.edges(data=True):\n",
    "    print(f\"{edge[0]} -> {edge[1]}: weight = {edge[2]['weight']:.1f}\")"
   ]
  },
  {
   "cell_type": "markdown",
   "id": "alternative-methods-title",
   "metadata": {},
   "source": [
    "## 5. Alternative Matrix Creation Methods"
   ]
  },
  {
   "cell_type": "markdown",
   "id": "list-method-title",
   "metadata": {},
   "source": [
    "### Using Lists Instead of NumPy Arrays"
   ]
  },
  {
   "cell_type": "code",
   "execution_count": null,
   "id": "list-method",
   "metadata": {},
   "outputs": [],
   "source": [
    "# You can also use regular Python lists\n",
    "adj_list = [\n",
    "    [0, 1, 1, 0],\n",
    "    [1, 0, 1, 1],\n",
    "    [1, 1, 0, 1],\n",
    "    [0, 1, 1, 0]\n",
    "]\n",
    "\n",
    "G_from_list = nx.from_numpy_array(np.array(adj_list))\n",
    "\n",
    "print(\"Graph created from Python list:\")\n",
    "print(f\"Number of nodes: {G_from_list.number_of_nodes()}\")\n",
    "print(f\"Number of edges: {G_from_list.number_of_edges()}\")\n",
    "print(f\"Edges: {list(G_from_list.edges())}\")"
   ]
  },
  {
   "cell_type": "markdown",
   "id": "sparse-method-title",
   "metadata": {},
   "source": [
    "### Creating Sparse Matrices"
   ]
  },
  {
   "cell_type": "code",
   "execution_count": null,
   "id": "sparse-method",
   "metadata": {},
   "outputs": [],
   "source": [
    "# For large, sparse graphs, use sparse matrices\n",
    "sparse_matrix = csr_matrix(adj_matrix_weighted_undirected)\n",
    "G_sparse = nx.from_scipy_sparse_array(sparse_matrix)\n",
    "\n",
    "print(\"Graph created from sparse matrix:\")\n",
    "print(f\"Number of nodes: {G_sparse.number_of_nodes()}\")\n",
    "print(f\"Number of edges: {G_sparse.number_of_edges()}\")\n",
    "\n",
    "# Visualize\n",
    "plt.figure(figsize=(8, 6))\n",
    "pos = nx.spring_layout(G_sparse, seed=42)\n",
    "nx.draw(G_sparse, pos, with_labels=True, node_color='orange', \n",
    "        node_size=500, font_size=16, font_weight='bold')\n",
    "plt.title(\"Graph from Sparse Matrix\")\n",
    "plt.show()"
   ]
  },
  {
   "cell_type": "markdown",
   "id": "graph-analysis-title",
   "metadata": {},
   "source": [
    "## 6. Graph Properties and Analysis"
   ]
  },
  {
   "cell_type": "code",
   "execution_count": null,
   "id": "graph-analysis",
   "metadata": {},
   "outputs": [],
   "source": [
    "# Example using the weighted undirected graph\n",
    "G = G_weighted_undirected\n",
    "\n",
    "print(\"Graph Properties:\")\n",
    "print(f\"Number of nodes: {G.number_of_nodes()}\")\n",
    "print(f\"Number of edges: {G.number_of_edges()}\")\n",
    "print(f\"Is connected: {nx.is_connected(G)}\")\n",
    "print(f\"Density: {nx.density(G):.3f}\")\n",
    "\n",
    "# Node degrees\n",
    "print(\"\\nNode degrees:\")\n",
    "for node in G.nodes():\n",
    "    print(f\"Node {node}: degree = {G.degree(node)}\")\n",
    "\n",
    "# Shortest paths (for weighted graphs)\n",
    "print(\"\\nShortest path distances:\")\n",
    "for source in G.nodes():\n",
    "    for target in G.nodes():\n",
    "        if source != target:\n",
    "            try:\n",
    "                distance = nx.shortest_path_length(G, source, target, weight='weight')\n",
    "                path = nx.shortest_path(G, source, target, weight='weight')\n",
    "                print(f\"Distance from {source} to {target}: {distance:.2f} (path: {' -> '.join(map(str, path))})\")\n",
    "            except nx.NetworkXNoPath:\n",
    "                print(f\"No path from {source} to {target}\")"
   ]
  },
  {
   "cell_type": "markdown",
   "id": "centrality-title",
   "metadata": {},
   "source": [
    "### Centrality Measures"
   ]
  },
  {
   "cell_type": "code",
   "execution_count": null,
   "id": "centrality",
   "metadata": {},
   "outputs": [],
   "source": [
    "# Calculate different centrality measures\n",
    "degree_centrality = nx.degree_centrality(G)\n",
    "betweenness_centrality = nx.betweenness_centrality(G)\n",
    "closeness_centrality = nx.closeness_centrality(G)\n",
    "\n",
    "print(\"Centrality Measures:\")\n",
    "print(\"\\nDegree Centrality:\")\n",
    "for node, centrality in degree_centrality.items():\n",
    "    print(f\"Node {node}: {centrality:.3f}\")\n",
    "\n",
    "print(\"\\nBetweenness Centrality:\")\n",
    "for node, centrality in betweenness_centrality.items():\n",
    "    print(f\"Node {node}: {centrality:.3f}\")\n",
    "\n",
    "print(\"\\nCloseness Centrality:\")\n",
    "for node, centrality in closeness_centrality.items():\n",
    "    print(f\"Node {node}: {centrality:.3f}\")"
   ]
  },
  {
   "cell_type": "markdown",
   "id": "custom-viz-title",
   "metadata": {},
   "source": [
    "## 7. Customizing Visualizations"
   ]
  },
  {
   "cell_type": "code",
   "execution_count": null,
   "id": "custom-viz",
   "metadata": {},
   "outputs": [],
   "source": [
    "# Advanced visualization example\n",
    "plt.figure(figsize=(12, 10))\n",
    "\n",
    "# Create a larger example graph\n",
    "np.random.seed(42)  # For reproducible results\n",
    "large_matrix = np.random.rand(8, 8)\n",
    "large_matrix = (large_matrix + large_matrix.T) / 2  # Make symmetric\n",
    "large_matrix[large_matrix < 0.3] = 0  # Sparsify\n",
    "np.fill_diagonal(large_matrix, 0)  # No self-loops\n",
    "\n",
    "G_large = nx.from_numpy_array(large_matrix)\n",
    "\n",
    "# Custom layout and styling\n",
    "pos = nx.kamada_kawai_layout(G_large)\n",
    "\n",
    "# Draw nodes with varying sizes based on degree\n",
    "node_sizes = [300 + 200 * G_large.degree(node) for node in G_large.nodes()]\n",
    "nx.draw_networkx_nodes(G_large, pos, node_size=node_sizes, \n",
    "                      node_color='skyblue', alpha=0.7)\n",
    "\n",
    "# Draw edges with varying thickness based on weight\n",
    "edges = G_large.edges()\n",
    "weights = [G_large[u][v]['weight'] * 5 for u, v in edges]\n",
    "nx.draw_networkx_edges(G_large, pos, width=weights, alpha=0.6, edge_color='gray')\n",
    "\n",
    "# Draw labels\n",
    "nx.draw_networkx_labels(G_large, pos, font_size=12, font_weight='bold')\n",
    "\n",
    "plt.title(\"Customized Graph Visualization\", size=16)\n",
    "plt.axis('off')\n",
    "plt.tight_layout()\n",
    "plt.show()\n",
    "\n",
    "print(f\"Large graph has {G_large.number_of_nodes()} nodes and {G_large.number_of_edges()} edges\")"
   ]
  },
  {
   "cell_type": "markdown",
   "id": "layout-comparison-title",
   "metadata": {},
   "source": [
    "### Comparing Different Layout Algorithms"
   ]
  },
  {
   "cell_type": "code",
   "execution_count": null,
   "id": "layout-comparison",
   "metadata": {},
   "outputs": [],
   "source": [
    "# Compare different layout algorithms\n",
    "G_demo = G_weighted_undirected\n",
    "\n",
    "fig, axes = plt.subplots(2, 2, figsize=(15, 12))\n",
    "fig.suptitle('Different Layout Algorithms', fontsize=16)\n",
    "\n",
    "layouts = {\n",
    "    'Spring Layout': nx.spring_layout(G_demo, seed=42),\n",
    "    'Circular Layout': nx.circular_layout(G_demo),\n",
    "    'Random Layout': nx.random_layout(G_demo, seed=42),\n",
    "    'Kamada-Kawai Layout': nx.kamada_kawai_layout(G_demo)\n",
    "}\n",
    "\n",
    "for (title, pos), ax in zip(layouts.items(), axes.flat):\n",
    "    ax.set_title(title)\n",
    "    nx.draw(G_demo, pos, ax=ax, with_labels=True, node_color='lightblue',\n",
    "            node_size=500, font_size=12, font_weight='bold')\n",
    "    ax.axis('off')\n",
    "\n",
    "plt.tight_layout()\n",
    "plt.show()"
   ]
  },
  {
   "cell_type": "markdown",
   "id": "interactive-viz-title",
   "metadata": {},
   "source": [
    "## 8. Interactive Example: Create Your Own Graph"
   ]
  },
  {
   "cell_type": "code",
   "execution_count": null,
   "id": "interactive-viz",
   "metadata": {},
   "outputs": [],
   "source": [
    "# Function to create and visualize a graph from user input\n",
    "def create_graph_from_matrix(matrix, directed=False, weighted=True, title=\"Custom Graph\"):\n",
    "    \"\"\"\n",
    "    Create and visualize a graph from an adjacency matrix\n",
    "    \n",
    "    Parameters:\n",
    "    matrix: 2D array-like, adjacency matrix\n",
    "    directed: bool, whether to create a directed graph\n",
    "    weighted: bool, whether to show edge weights\n",
    "    title: str, title for the plot\n",
    "    \"\"\"\n",
    "    matrix = np.array(matrix)\n",
    "    \n",
    "    if directed:\n",
    "        G = nx.from_numpy_array(matrix, create_using=nx.DiGraph())\n",
    "    else:\n",
    "        G = nx.from_numpy_array(matrix)\n",
    "    \n",
    "    plt.figure(figsize=(10, 8))\n",
    "    pos = nx.spring_layout(G, seed=42)\n",
    "    \n",
    "    # Choose node color based on graph type\n",
    "    if directed and weighted:\n",
    "        color = 'lightyellow'\n",
    "    elif directed:\n",
    "        color = 'lightcoral'\n",
    "    elif weighted:\n",
    "        color = 'lightgreen'\n",
    "    else:\n",
    "        color = 'lightblue'\n",
    "    \n",
    "    # Draw the graph\n",
    "    nx.draw(G, pos, with_labels=True, node_color=color, \n",
    "            node_size=500, font_size=16, font_weight='bold',\n",
    "            arrows=directed, arrowsize=20, arrowstyle='->' if directed else None)\n",
    "    \n",
    "    # Add edge labels if weighted\n",
    "    if weighted and np.any(matrix != matrix.astype(bool).astype(int)):\n",
    "        edge_labels = nx.get_edge_attributes(G, 'weight')\n",
    "        edge_labels = {k: f'{v:.1f}' for k, v in edge_labels.items()}\n",
    "        nx.draw_networkx_edge_labels(G, pos, edge_labels)\n",
    "    \n",
    "    plt.title(title)\n",
    "    plt.axis('off')\n",
    "    plt.show()\n",
    "    \n",
    "    return G\n",
    "\n",
    "# Example usage - try modifying this matrix!\n",
    "custom_matrix = [\n",
    "    [0, 1.5, 0, 2.0, 0],\n",
    "    [1.5, 0, 3.0, 0, 1.0],\n",
    "    [0, 3.0, 0, 2.5, 0],\n",
    "    [2.0, 0, 2.5, 0, 1.8],\n",
    "    [0, 1.0, 0, 1.8, 0]\n",
    "]\n",
    "\n",
    "print(\"Custom Matrix:\")\n",
    "for row in custom_matrix:\n",
    "    print(row)\n",
    "\n",
    "G_custom = create_graph_from_matrix(custom_matrix, directed=False, weighted=True, \n",
    "                                   title=\"Your Custom Weighted Undirected Graph\")\n",
    "\n",
    "print(f\"\\nYour graph has {G_custom.number_of_nodes()} nodes and {G_custom.number_of_edges()} edges\")"
   ]
  },
  {
   "cell_type": "markdown",
   "id": "summary-title",
   "metadata": {},
   "source": [
    "## Summary: Key Points to Remember\n",
    "\n",
    "1. **Undirected graphs** require symmetric adjacency matrices\n",
    "2. **Directed graphs** can have asymmetric adjacency matrices\n",
    "3. **Unweighted graphs** use binary values (0 or 1)\n",
    "4. **Weighted graphs** use numeric values representing edge weights\n",
    "5. Use `create_using=nx.DiGraph()` parameter for directed graphs\n",
    "6. NetworkX automatically interprets non-zero values as edge weights\n",
    "7. Use layout algorithms like `nx.spring_layout()` for better visualizations\n",
    "8. Add `arrows=True` and `arrowsize` parameters for directed graph visualization\n",
    "\n",
    "### Common Layout Algorithms\n",
    "\n",
    "- `nx.spring_layout()`: Force-directed layout (default)\n",
    "- `nx.circular_layout()`: Nodes arranged in a circle\n",
    "- `nx.random_layout()`: Random positioning\n",
    "- `nx.kamada_kawai_layout()`: Good for small to medium graphs\n",
    "- `nx.planar_layout()`: For planar graphs\n",
    "\n",
    "### Next Steps\n",
    "\n",
    "Try modifying the matrices in the examples above to create your own graphs! Experiment with different:\n",
    "- Matrix sizes\n",
    "- Weight values\n",
    "- Sparsity patterns\n",
    "- Layout algorithms\n",
    "- Visualization parameters"
   ]
  },
  {
   "cell_type": "markdown",
   "id": "exercise-title",
   "metadata": {},
   "source": [
    "## Exercise: Try It Yourself!\n",
    "\n",
    "Create your own adjacency matrix in the cell below and use the `create_graph_from_matrix` function to visualize it."
   ]
  },
  {
   "cell_type": "code",
   "execution_count": null,
   "id": "exercise",
   "metadata": {},
   "outputs": [],
   "source": [
    "# Your turn! Create your own adjacency matrix here\n",
    "my_matrix = [\n",
    "    # Add your matrix rows here\n",
    "    # Example: [0, 1, 0], [1, 0, 1], [0, 1, 0]\n",
    "]\n",
    "\n",
    "# Uncomment and modify the line below to visualize your graph\n",
    "# my_graph = create_graph_from_matrix(my_matrix, directed=False, weighted=False, title=\"My Graph\")"
   ]
  }
 ],
 "metadata": {
  "kernelspec": {
   "display_name": "Python 3",
   "language": "python",
   "name": "python3"
  },
  "language_info": {
   "codemirror_mode": {
    "name": "ipython",
    "version": 3
   },
   "file_extension": ".py",
   "mimetype": "text/x-python",
   "name": "python",
   "nbconvert_exporter": "python",
   "pygments_lexer": "ipython3",
   "version": "3.8.5"
  }
 },
 "nbformat": 4,
 "nbformat_minor": 5
}